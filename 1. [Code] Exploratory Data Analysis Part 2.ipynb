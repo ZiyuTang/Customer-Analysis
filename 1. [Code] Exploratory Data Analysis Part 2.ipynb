{
 "cells": [
  {
   "cell_type": "code",
   "execution_count": 45,
   "metadata": {},
   "outputs": [],
   "source": [
    "import pandas as pd\n",
    "import mysql.connector"
   ]
  },
  {
   "cell_type": "code",
   "execution_count": 83,
   "metadata": {},
   "outputs": [],
   "source": [
    "import matplotlib.pyplot as plt\n",
    "import numpy as np\n",
    "from matplotlib \n",
    "import colors\n",
    "from matplotlib.ticker \n",
    "import PercentFormatter\n",
    "import pandas as pd\n",
    "\n",
    "# Fixing random state for reproducibility\n",
    "np.random.seed(123456789)"
   ]
  },
  {
   "cell_type": "code",
   "execution_count": 4,
   "metadata": {},
   "outputs": [
    {
     "data": {
      "text/plain": [
       "True"
      ]
     },
     "execution_count": 4,
     "metadata": {},
     "output_type": "execute_result"
    }
   ],
   "source": [
    "sql = \"SELECT department_at_prod_id, COUNT(brand_at_prod_id) AS num_priv_prod FROM (SELECT * FROM Products WHERE brand_at_prod_id = 'CTL BR') AS A WHERE department_at_prod_id IS NOT NULL GROUP BY department_at_prod_id;\"\n",
    "mycursor = mydb.cursor()\n",
    "mycursor.execute(sql)\n",
    "myresult = mycursor.fetchall()\n",
    "mycursor.close()"
   ]
  },
  {
   "cell_type": "code",
   "execution_count": 46,
   "metadata": {},
   "outputs": [
    {
     "data": {
      "text/plain": [
       "[('FRESH PRODUCE', 10250),\n",
       " ('DELI', 34623),\n",
       " ('GENERAL MERCHANDISE', 151670),\n",
       " ('DRY GROCERY', 397527),\n",
       " ('DAIRY', 42434),\n",
       " ('FROZEN FOODS', 63623),\n",
       " ('PACKAGED MEAT', 15851),\n",
       " ('HEALTH & BEAUTY CARE', 169236),\n",
       " ('NON-FOOD GROCERY', 152747),\n",
       " ('ALCOHOLIC BEVERAGES', 2600)]"
      ]
     },
     "execution_count": 46,
     "metadata": {},
     "output_type": "execute_result"
    }
   ],
   "source": [
    "myresult"
   ]
  },
  {
   "cell_type": "code",
   "execution_count": 49,
   "metadata": {},
   "outputs": [],
   "source": [
    "priv_prod = pd.DataFrame(myresult)\n",
    "priv_prod.columns = ['department_at_prod_id', 'num_priv_prod']"
   ]
  },
  {
   "cell_type": "code",
   "execution_count": 50,
   "metadata": {},
   "outputs": [
    {
     "data": {
      "text/html": [
       "<div>\n",
       "<style scoped>\n",
       "    .dataframe tbody tr th:only-of-type {\n",
       "        vertical-align: middle;\n",
       "    }\n",
       "\n",
       "    .dataframe tbody tr th {\n",
       "        vertical-align: top;\n",
       "    }\n",
       "\n",
       "    .dataframe thead th {\n",
       "        text-align: right;\n",
       "    }\n",
       "</style>\n",
       "<table border=\"1\" class=\"dataframe\">\n",
       "  <thead>\n",
       "    <tr style=\"text-align: right;\">\n",
       "      <th></th>\n",
       "      <th>department_at_prod_id</th>\n",
       "      <th>num_priv_prod</th>\n",
       "    </tr>\n",
       "  </thead>\n",
       "  <tbody>\n",
       "    <tr>\n",
       "      <td>0</td>\n",
       "      <td>FRESH PRODUCE</td>\n",
       "      <td>10250</td>\n",
       "    </tr>\n",
       "    <tr>\n",
       "      <td>1</td>\n",
       "      <td>DELI</td>\n",
       "      <td>34623</td>\n",
       "    </tr>\n",
       "    <tr>\n",
       "      <td>2</td>\n",
       "      <td>GENERAL MERCHANDISE</td>\n",
       "      <td>151670</td>\n",
       "    </tr>\n",
       "    <tr>\n",
       "      <td>3</td>\n",
       "      <td>DRY GROCERY</td>\n",
       "      <td>397527</td>\n",
       "    </tr>\n",
       "    <tr>\n",
       "      <td>4</td>\n",
       "      <td>DAIRY</td>\n",
       "      <td>42434</td>\n",
       "    </tr>\n",
       "    <tr>\n",
       "      <td>5</td>\n",
       "      <td>FROZEN FOODS</td>\n",
       "      <td>63623</td>\n",
       "    </tr>\n",
       "    <tr>\n",
       "      <td>6</td>\n",
       "      <td>PACKAGED MEAT</td>\n",
       "      <td>15851</td>\n",
       "    </tr>\n",
       "    <tr>\n",
       "      <td>7</td>\n",
       "      <td>HEALTH &amp; BEAUTY CARE</td>\n",
       "      <td>169236</td>\n",
       "    </tr>\n",
       "    <tr>\n",
       "      <td>8</td>\n",
       "      <td>NON-FOOD GROCERY</td>\n",
       "      <td>152747</td>\n",
       "    </tr>\n",
       "    <tr>\n",
       "      <td>9</td>\n",
       "      <td>ALCOHOLIC BEVERAGES</td>\n",
       "      <td>2600</td>\n",
       "    </tr>\n",
       "  </tbody>\n",
       "</table>\n",
       "</div>"
      ],
      "text/plain": [
       "  department_at_prod_id  num_priv_prod\n",
       "0         FRESH PRODUCE          10250\n",
       "1                  DELI          34623\n",
       "2   GENERAL MERCHANDISE         151670\n",
       "3           DRY GROCERY         397527\n",
       "4                 DAIRY          42434\n",
       "5          FROZEN FOODS          63623\n",
       "6         PACKAGED MEAT          15851\n",
       "7  HEALTH & BEAUTY CARE         169236\n",
       "8      NON-FOOD GROCERY         152747\n",
       "9   ALCOHOLIC BEVERAGES           2600"
      ]
     },
     "execution_count": 50,
     "metadata": {},
     "output_type": "execute_result"
    }
   ],
   "source": [
    "priv_prod"
   ]
  },
  {
   "cell_type": "code",
   "execution_count": null,
   "metadata": {},
   "outputs": [],
   "source": [
    "Purchases_Products = pd.merge(Purchases,Products, how='inner', on = 'prod_id')"
   ]
  },
  {
   "cell_type": "code",
   "execution_count": 34,
   "metadata": {},
   "outputs": [],
   "source": [
    "priv_prod_share = pd.read_csv(\"~/desktop/c_3_2.csv\")"
   ]
  },
  {
   "cell_type": "code",
   "execution_count": 35,
   "metadata": {},
   "outputs": [],
   "source": [
    "priv_prod_share = pd.DataFrame(priv_prod_share)"
   ]
  },
  {
   "cell_type": "code",
   "execution_count": 36,
   "metadata": {},
   "outputs": [
    {
     "data": {
      "text/html": [
       "<div>\n",
       "<style scoped>\n",
       "    .dataframe tbody tr th:only-of-type {\n",
       "        vertical-align: middle;\n",
       "    }\n",
       "\n",
       "    .dataframe tbody tr th {\n",
       "        vertical-align: top;\n",
       "    }\n",
       "\n",
       "    .dataframe thead th {\n",
       "        text-align: right;\n",
       "    }\n",
       "</style>\n",
       "<table border=\"1\" class=\"dataframe\">\n",
       "  <thead>\n",
       "    <tr style=\"text-align: right;\">\n",
       "      <th></th>\n",
       "      <th>month</th>\n",
       "      <th>quantity_share</th>\n",
       "    </tr>\n",
       "  </thead>\n",
       "  <tbody>\n",
       "    <tr>\n",
       "      <td>0</td>\n",
       "      <td>Jan</td>\n",
       "      <td>0.1941</td>\n",
       "    </tr>\n",
       "    <tr>\n",
       "      <td>1</td>\n",
       "      <td>Feb</td>\n",
       "      <td>0.1928</td>\n",
       "    </tr>\n",
       "    <tr>\n",
       "      <td>2</td>\n",
       "      <td>Mar</td>\n",
       "      <td>0.1887</td>\n",
       "    </tr>\n",
       "    <tr>\n",
       "      <td>3</td>\n",
       "      <td>Apr</td>\n",
       "      <td>0.1877</td>\n",
       "    </tr>\n",
       "    <tr>\n",
       "      <td>4</td>\n",
       "      <td>May</td>\n",
       "      <td>0.1880</td>\n",
       "    </tr>\n",
       "    <tr>\n",
       "      <td>5</td>\n",
       "      <td>Jun</td>\n",
       "      <td>0.1925</td>\n",
       "    </tr>\n",
       "    <tr>\n",
       "      <td>6</td>\n",
       "      <td>Jul</td>\n",
       "      <td>0.1965</td>\n",
       "    </tr>\n",
       "    <tr>\n",
       "      <td>7</td>\n",
       "      <td>Aug</td>\n",
       "      <td>0.1940</td>\n",
       "    </tr>\n",
       "    <tr>\n",
       "      <td>8</td>\n",
       "      <td>Sep</td>\n",
       "      <td>0.1974</td>\n",
       "    </tr>\n",
       "    <tr>\n",
       "      <td>9</td>\n",
       "      <td>Oct</td>\n",
       "      <td>0.1957</td>\n",
       "    </tr>\n",
       "    <tr>\n",
       "      <td>10</td>\n",
       "      <td>Nov</td>\n",
       "      <td>0.2026</td>\n",
       "    </tr>\n",
       "    <tr>\n",
       "      <td>11</td>\n",
       "      <td>Dec</td>\n",
       "      <td>0.2021</td>\n",
       "    </tr>\n",
       "  </tbody>\n",
       "</table>\n",
       "</div>"
      ],
      "text/plain": [
       "   month  quantity_share\n",
       "0    Jan          0.1941\n",
       "1    Feb          0.1928\n",
       "2    Mar          0.1887\n",
       "3    Apr          0.1877\n",
       "4    May          0.1880\n",
       "5    Jun          0.1925\n",
       "6    Jul          0.1965\n",
       "7    Aug          0.1940\n",
       "8    Sep          0.1974\n",
       "9    Oct          0.1957\n",
       "10   Nov          0.2026\n",
       "11   Dec          0.2021"
      ]
     },
     "execution_count": 36,
     "metadata": {},
     "output_type": "execute_result"
    }
   ],
   "source": [
    "priv_prod_share"
   ]
  },
  {
   "cell_type": "code",
   "execution_count": 43,
   "metadata": {},
   "outputs": [
    {
     "data": {
      "image/png": "[encoded data removed]",
      "text/plain": [
       "<Figure size 432x288 with 1 Axes>"
      ]
     },
     "metadata": {
      "needs_background": "light"
     },
     "output_type": "display_data"
    }
   ],
   "source": [
    "import matplotlib.pyplot as plt\n",
    "fig, ax = plt.subplots()\n",
    "plt.ylim(0, 0.5)\n",
    "ax.plot(priv_prod_share[\"month\"], priv_prod_share[\"quantity_share\"], color = \"indianred\", marker = \"o\", markersize = 3)\n",
    "ax.set_ylabel(\"Expenditure share in private labeled products\")\n",
    "ax.set_xticklabels(priv_prod_share[\"month\"])\n",
    "ax.set_xlabel(\"Month\")\n",
    "ax.set_title('The trend of expenditure share in private labeled products',fontsize=12,color='black')\n",
    "plt.show()"
   ]
  },
  {
   "cell_type": "code",
   "execution_count": 47,
   "metadata": {},
   "outputs": [
    {
     "data": {
      "text/plain": [
       "True"
      ]
     },
     "execution_count": 47,
     "metadata": {},
     "output_type": "execute_result"
    }
   ],
   "source": [
    "sqlc1 = \"\"\"SELECT department_at_prod_id, COUNT(brand_at_prod_id) AS num_priv_prod \n",
    "            FROM (SELECT * \n",
    "                      FROM Products \n",
    "                      WHERE brand_at_prod_id = 'CTL BR') AS A \n",
    "            WHERE department_at_prod_id IS NOT NULL \n",
    "         GROUP BY department_at_prod_id\n",
    "         ORDER BY num_priv_prod DESC\"\"\"\n",
    "mycursor = mydb.cursor()\n",
    "mycursor.execute(sqlc1)\n",
    "myresultc1 = mycursor.fetchall()\n",
    "mycursor.close()"
   ]
  },
  {
   "cell_type": "code",
   "execution_count": 52,
   "metadata": {},
   "outputs": [
    {
     "data": {
      "text/html": [
       "<div>\n",
       "<style scoped>\n",
       "    .dataframe tbody tr th:only-of-type {\n",
       "        vertical-align: middle;\n",
       "    }\n",
       "\n",
       "    .dataframe tbody tr th {\n",
       "        vertical-align: top;\n",
       "    }\n",
       "\n",
       "    .dataframe thead th {\n",
       "        text-align: right;\n",
       "    }\n",
       "</style>\n",
       "<table border=\"1\" class=\"dataframe\">\n",
       "  <thead>\n",
       "    <tr style=\"text-align: right;\">\n",
       "      <th></th>\n",
       "      <th>department_at_prod_id</th>\n",
       "      <th>num_priv_prod</th>\n",
       "    </tr>\n",
       "  </thead>\n",
       "  <tbody>\n",
       "    <tr>\n",
       "      <td>0</td>\n",
       "      <td>DRY GROCERY</td>\n",
       "      <td>397527</td>\n",
       "    </tr>\n",
       "    <tr>\n",
       "      <td>1</td>\n",
       "      <td>HEALTH &amp; BEAUTY CARE</td>\n",
       "      <td>169236</td>\n",
       "    </tr>\n",
       "    <tr>\n",
       "      <td>2</td>\n",
       "      <td>NON-FOOD GROCERY</td>\n",
       "      <td>152747</td>\n",
       "    </tr>\n",
       "    <tr>\n",
       "      <td>3</td>\n",
       "      <td>GENERAL MERCHANDISE</td>\n",
       "      <td>151670</td>\n",
       "    </tr>\n",
       "    <tr>\n",
       "      <td>4</td>\n",
       "      <td>FROZEN FOODS</td>\n",
       "      <td>63623</td>\n",
       "    </tr>\n",
       "    <tr>\n",
       "      <td>5</td>\n",
       "      <td>DAIRY</td>\n",
       "      <td>42434</td>\n",
       "    </tr>\n",
       "    <tr>\n",
       "      <td>6</td>\n",
       "      <td>DELI</td>\n",
       "      <td>34623</td>\n",
       "    </tr>\n",
       "    <tr>\n",
       "      <td>7</td>\n",
       "      <td>PACKAGED MEAT</td>\n",
       "      <td>15851</td>\n",
       "    </tr>\n",
       "    <tr>\n",
       "      <td>8</td>\n",
       "      <td>FRESH PRODUCE</td>\n",
       "      <td>10250</td>\n",
       "    </tr>\n",
       "    <tr>\n",
       "      <td>9</td>\n",
       "      <td>ALCOHOLIC BEVERAGES</td>\n",
       "      <td>2600</td>\n",
       "    </tr>\n",
       "  </tbody>\n",
       "</table>\n",
       "</div>"
      ],
      "text/plain": [
       "  department_at_prod_id  num_priv_prod\n",
       "0           DRY GROCERY         397527\n",
       "1  HEALTH & BEAUTY CARE         169236\n",
       "2      NON-FOOD GROCERY         152747\n",
       "3   GENERAL MERCHANDISE         151670\n",
       "4          FROZEN FOODS          63623\n",
       "5                 DAIRY          42434\n",
       "6                  DELI          34623\n",
       "7         PACKAGED MEAT          15851\n",
       "8         FRESH PRODUCE          10250\n",
       "9   ALCOHOLIC BEVERAGES           2600"
      ]
     },
     "execution_count": 52,
     "metadata": {},
     "output_type": "execute_result"
    }
   ],
   "source": [
    "myresultc1 = pd.DataFrame(myresultc1)\n",
    "myresultc1.columns = [\"department_at_prod_id\",\"num_priv_prod\"]\n",
    "myresultc1"
   ]
  },
  {
   "cell_type": "code",
   "execution_count": 54,
   "metadata": {},
   "outputs": [
    {
     "data": {
      "image/png": "[encoded data removed]",
      "text/plain": [
       "<Figure size 432x288 with 1 Axes>"
      ]
     },
     "metadata": {},
     "output_type": "display_data"
    }
   ],
   "source": [
    "plt.style.use(\"seaborn-white\")\n",
    "fig, ax = plt.subplots()\n",
    "ax.bar(myresultc1[\"department_at_prod_id\"],myresultc1[\"num_priv_prod\"], color = \"indianred\", width=0.5)\n",
    "plt.xticks(rotation=90)\n",
    "plt.ylim(0,450000)\n",
    "plt.xlabel(\"Categories\")\n",
    "plt.ylabel(\"Number\")\n",
    "plt.title(\"Number of Private Labeled Products for Each Category\")\n",
    "for a,b in zip(myresultc1[\"department_at_prod_id\"], myresultc1[\"num_priv_prod\"]):\n",
    "    ax.text(a, b, b, ha=\"center\", va=\"bottom\")"
   ]
  }
 ],
 "metadata": {
  "kernelspec": {
   "display_name": "Python 3",
   "language": "python",
   "name": "python3"
  },
  "language_info": {
   "codemirror_mode": {
    "name": "ipython",
    "version": 3
   },
   "file_extension": ".py",
   "mimetype": "text/x-python",
   "name": "python",
   "nbconvert_exporter": "python",
   "pygments_lexer": "ipython3",
   "version": "3.7.3"
  }
 },
 "nbformat": 4,
 "nbformat_minor": 2
}
