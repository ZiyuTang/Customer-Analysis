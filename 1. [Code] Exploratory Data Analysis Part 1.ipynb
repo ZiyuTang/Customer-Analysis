{
 "cells": [
  {
   "cell_type": "code",
   "execution_count": 7,
   "metadata": {},
   "outputs": [],
   "source": [
    "import pandas as pd\n",
    "import matplotlib.pyplot as plt\n",
    "%matplotlib inline\n",
    "\n",
    "# Pearson correaltion\n",
    "from scipy.stats.stats import pearsonr"
   ]
  },
  {
   "cell_type": "code",
   "execution_count": 8,
   "metadata": {},
   "outputs": [],
   "source": [
    "Households = pd.read_csv(\"~/Downloads/dta_at_hh (1).csv\")"
   ]
  },
  {
   "cell_type": "code",
   "execution_count": 9,
   "metadata": {},
   "outputs": [],
   "source": [
    "Products = pd.read_csv(\"~/Downloads/dta_at_prod_id (1).csv\")"
   ]
  },
  {
   "cell_type": "code",
   "execution_count": 10,
   "metadata": {},
   "outputs": [],
   "source": [
    "Trips = pd.read_csv(\"~/Downloads/dta_at_TC (1).csv\")"
   ]
  },
  {
   "cell_type": "code",
   "execution_count": 11,
   "metadata": {},
   "outputs": [],
   "source": [
    "Purchases= pd.read_csv(\"~/Downloads/dta_at_TC_upc (1).csv\")"
   ]
  },
  {
   "cell_type": "markdown",
   "metadata": {},
   "source": [
    "## c.1 Is the number of shopping trips per month correlated with the average number of items"
   ]
  },
  {
   "cell_type": "code",
   "execution_count": 12,
   "metadata": {
    "scrolled": true
   },
   "outputs": [],
   "source": [
    "Trips['hh_YM'] = Trips['TC_date'].str[0:7]"
   ]
  },
  {
   "cell_type": "code",
   "execution_count": 13,
   "metadata": {
    "scrolled": true
   },
   "outputs": [
    {
     "data": {
      "text/html": [
       "<div>\n",
       "<style scoped>\n",
       "    .dataframe tbody tr th:only-of-type {\n",
       "        vertical-align: middle;\n",
       "    }\n",
       "\n",
       "    .dataframe tbody tr th {\n",
       "        vertical-align: top;\n",
       "    }\n",
       "\n",
       "    .dataframe thead th {\n",
       "        text-align: right;\n",
       "    }\n",
       "</style>\n",
       "<table border=\"1\" class=\"dataframe\">\n",
       "  <thead>\n",
       "    <tr style=\"text-align: right;\">\n",
       "      <th></th>\n",
       "      <th>Unnamed: 0</th>\n",
       "      <th>hh_id</th>\n",
       "      <th>TC_date</th>\n",
       "      <th>TC_retailer_code</th>\n",
       "      <th>TC_retailer_code_store_code</th>\n",
       "      <th>TC_retailer_code_store_zip3</th>\n",
       "      <th>TC_total_spent</th>\n",
       "      <th>TC_id</th>\n",
       "      <th>hh_YM</th>\n",
       "    </tr>\n",
       "  </thead>\n",
       "  <tbody>\n",
       "    <tr>\n",
       "      <td>0</td>\n",
       "      <td>0</td>\n",
       "      <td>2000000</td>\n",
       "      <td>2003-12-29</td>\n",
       "      <td>248</td>\n",
       "      <td>4125185</td>\n",
       "      <td>365.0</td>\n",
       "      <td>3.97</td>\n",
       "      <td>20576</td>\n",
       "      <td>2003-12</td>\n",
       "    </tr>\n",
       "    <tr>\n",
       "      <td>1</td>\n",
       "      <td>1</td>\n",
       "      <td>2000000</td>\n",
       "      <td>2003-12-30</td>\n",
       "      <td>248</td>\n",
       "      <td>4125185</td>\n",
       "      <td>365.0</td>\n",
       "      <td>58.48</td>\n",
       "      <td>38829</td>\n",
       "      <td>2003-12</td>\n",
       "    </tr>\n",
       "    <tr>\n",
       "      <td>2</td>\n",
       "      <td>2</td>\n",
       "      <td>2000000</td>\n",
       "      <td>2004-01-02</td>\n",
       "      <td>248</td>\n",
       "      <td>4125185</td>\n",
       "      <td>365.0</td>\n",
       "      <td>132.58</td>\n",
       "      <td>92523</td>\n",
       "      <td>2004-01</td>\n",
       "    </tr>\n",
       "    <tr>\n",
       "      <td>3</td>\n",
       "      <td>3</td>\n",
       "      <td>2000000</td>\n",
       "      <td>2004-01-05</td>\n",
       "      <td>6999</td>\n",
       "      <td>0</td>\n",
       "      <td>NaN</td>\n",
       "      <td>19.65</td>\n",
       "      <td>155187</td>\n",
       "      <td>2004-01</td>\n",
       "    </tr>\n",
       "    <tr>\n",
       "      <td>4</td>\n",
       "      <td>4</td>\n",
       "      <td>2000000</td>\n",
       "      <td>2004-01-09</td>\n",
       "      <td>248</td>\n",
       "      <td>4125185</td>\n",
       "      <td>365.0</td>\n",
       "      <td>98.69</td>\n",
       "      <td>221705</td>\n",
       "      <td>2004-01</td>\n",
       "    </tr>\n",
       "  </tbody>\n",
       "</table>\n",
       "</div>"
      ],
      "text/plain": [
       "   Unnamed: 0    hh_id     TC_date  TC_retailer_code  \\\n",
       "0           0  2000000  2003-12-29               248   \n",
       "1           1  2000000  2003-12-30               248   \n",
       "2           2  2000000  2004-01-02               248   \n",
       "3           3  2000000  2004-01-05              6999   \n",
       "4           4  2000000  2004-01-09               248   \n",
       "\n",
       "   TC_retailer_code_store_code  TC_retailer_code_store_zip3  TC_total_spent  \\\n",
       "0                      4125185                        365.0            3.97   \n",
       "1                      4125185                        365.0           58.48   \n",
       "2                      4125185                        365.0          132.58   \n",
       "3                            0                          NaN           19.65   \n",
       "4                      4125185                        365.0           98.69   \n",
       "\n",
       "    TC_id    hh_YM  \n",
       "0   20576  2003-12  \n",
       "1   38829  2003-12  \n",
       "2   92523  2004-01  \n",
       "3  155187  2004-01  \n",
       "4  221705  2004-01  "
      ]
     },
     "execution_count": 13,
     "metadata": {},
     "output_type": "execute_result"
    }
   ],
   "source": [
    "Trips.head()"
   ]
  },
  {
   "cell_type": "code",
   "execution_count": 14,
   "metadata": {},
   "outputs": [
    {
     "data": {
      "text/html": [
       "<div>\n",
       "<style scoped>\n",
       "    .dataframe tbody tr th:only-of-type {\n",
       "        vertical-align: middle;\n",
       "    }\n",
       "\n",
       "    .dataframe tbody tr th {\n",
       "        vertical-align: top;\n",
       "    }\n",
       "\n",
       "    .dataframe thead th {\n",
       "        text-align: right;\n",
       "    }\n",
       "</style>\n",
       "<table border=\"1\" class=\"dataframe\">\n",
       "  <thead>\n",
       "    <tr style=\"text-align: right;\">\n",
       "      <th></th>\n",
       "      <th>Unnamed: 0</th>\n",
       "      <th>TC_id</th>\n",
       "      <th>quantity_at_TC_prod_id</th>\n",
       "      <th>total_price_paid_at_TC_prod_id</th>\n",
       "      <th>coupon_value_at_TC_prod_id</th>\n",
       "      <th>deal_flag_at_TC_prod_id</th>\n",
       "      <th>prod_id</th>\n",
       "    </tr>\n",
       "  </thead>\n",
       "  <tbody>\n",
       "    <tr>\n",
       "      <td>0</td>\n",
       "      <td>0</td>\n",
       "      <td>1030138</td>\n",
       "      <td>1</td>\n",
       "      <td>0.99</td>\n",
       "      <td>0.0</td>\n",
       "      <td>0</td>\n",
       "      <td>1.000012e+14</td>\n",
       "    </tr>\n",
       "    <tr>\n",
       "      <td>1</td>\n",
       "      <td>1</td>\n",
       "      <td>1030024</td>\n",
       "      <td>1</td>\n",
       "      <td>1.00</td>\n",
       "      <td>0.0</td>\n",
       "      <td>1</td>\n",
       "      <td>1.000021e+14</td>\n",
       "    </tr>\n",
       "    <tr>\n",
       "      <td>2</td>\n",
       "      <td>2</td>\n",
       "      <td>1029953</td>\n",
       "      <td>1</td>\n",
       "      <td>2.14</td>\n",
       "      <td>0.0</td>\n",
       "      <td>0</td>\n",
       "      <td>1.000047e+14</td>\n",
       "    </tr>\n",
       "    <tr>\n",
       "      <td>3</td>\n",
       "      <td>3</td>\n",
       "      <td>1029859</td>\n",
       "      <td>2</td>\n",
       "      <td>1.78</td>\n",
       "      <td>0.0</td>\n",
       "      <td>1</td>\n",
       "      <td>1.000051e+14</td>\n",
       "    </tr>\n",
       "    <tr>\n",
       "      <td>4</td>\n",
       "      <td>4</td>\n",
       "      <td>1029859</td>\n",
       "      <td>8</td>\n",
       "      <td>2.00</td>\n",
       "      <td>0.0</td>\n",
       "      <td>1</td>\n",
       "      <td>1.000027e+14</td>\n",
       "    </tr>\n",
       "  </tbody>\n",
       "</table>\n",
       "</div>"
      ],
      "text/plain": [
       "   Unnamed: 0    TC_id  quantity_at_TC_prod_id  \\\n",
       "0           0  1030138                       1   \n",
       "1           1  1030024                       1   \n",
       "2           2  1029953                       1   \n",
       "3           3  1029859                       2   \n",
       "4           4  1029859                       8   \n",
       "\n",
       "   total_price_paid_at_TC_prod_id  coupon_value_at_TC_prod_id  \\\n",
       "0                            0.99                         0.0   \n",
       "1                            1.00                         0.0   \n",
       "2                            2.14                         0.0   \n",
       "3                            1.78                         0.0   \n",
       "4                            2.00                         0.0   \n",
       "\n",
       "   deal_flag_at_TC_prod_id       prod_id  \n",
       "0                        0  1.000012e+14  \n",
       "1                        1  1.000021e+14  \n",
       "2                        0  1.000047e+14  \n",
       "3                        1  1.000051e+14  \n",
       "4                        1  1.000027e+14  "
      ]
     },
     "execution_count": 14,
     "metadata": {},
     "output_type": "execute_result"
    }
   ],
   "source": [
    "Purchases.head()"
   ]
  },
  {
   "cell_type": "code",
   "execution_count": 15,
   "metadata": {},
   "outputs": [
    {
     "data": {
      "text/html": [
       "<div>\n",
       "<style scoped>\n",
       "    .dataframe tbody tr th:only-of-type {\n",
       "        vertical-align: middle;\n",
       "    }\n",
       "\n",
       "    .dataframe tbody tr th {\n",
       "        vertical-align: top;\n",
       "    }\n",
       "\n",
       "    .dataframe thead th {\n",
       "        text-align: right;\n",
       "    }\n",
       "</style>\n",
       "<table border=\"1\" class=\"dataframe\">\n",
       "  <thead>\n",
       "    <tr style=\"text-align: right;\">\n",
       "      <th></th>\n",
       "      <th>TC_id</th>\n",
       "      <th>quantity_at_TC_prod_id</th>\n",
       "    </tr>\n",
       "  </thead>\n",
       "  <tbody>\n",
       "    <tr>\n",
       "      <td>0</td>\n",
       "      <td>233</td>\n",
       "      <td>3</td>\n",
       "    </tr>\n",
       "    <tr>\n",
       "      <td>1</td>\n",
       "      <td>234</td>\n",
       "      <td>1</td>\n",
       "    </tr>\n",
       "    <tr>\n",
       "      <td>2</td>\n",
       "      <td>235</td>\n",
       "      <td>1</td>\n",
       "    </tr>\n",
       "    <tr>\n",
       "      <td>3</td>\n",
       "      <td>236</td>\n",
       "      <td>13</td>\n",
       "    </tr>\n",
       "    <tr>\n",
       "      <td>4</td>\n",
       "      <td>237</td>\n",
       "      <td>1</td>\n",
       "    </tr>\n",
       "  </tbody>\n",
       "</table>\n",
       "</div>"
      ],
      "text/plain": [
       "   TC_id  quantity_at_TC_prod_id\n",
       "0    233                       3\n",
       "1    234                       1\n",
       "2    235                       1\n",
       "3    236                      13\n",
       "4    237                       1"
      ]
     },
     "execution_count": 15,
     "metadata": {},
     "output_type": "execute_result"
    }
   ],
   "source": [
    "Purchase_agg = Purchases[['TC_id','quantity_at_TC_prod_id']].groupby('TC_id').sum()\n",
    "Purchase_agg.reset_index(inplace=True)\n",
    "Purchase_agg.head()"
   ]
  },
  {
   "cell_type": "code",
   "execution_count": 16,
   "metadata": {
    "scrolled": true
   },
   "outputs": [
    {
     "data": {
      "text/html": [
       "<div>\n",
       "<style scoped>\n",
       "    .dataframe tbody tr th:only-of-type {\n",
       "        vertical-align: middle;\n",
       "    }\n",
       "\n",
       "    .dataframe tbody tr th {\n",
       "        vertical-align: top;\n",
       "    }\n",
       "\n",
       "    .dataframe thead th {\n",
       "        text-align: right;\n",
       "    }\n",
       "</style>\n",
       "<table border=\"1\" class=\"dataframe\">\n",
       "  <thead>\n",
       "    <tr style=\"text-align: right;\">\n",
       "      <th></th>\n",
       "      <th>hh_id</th>\n",
       "      <th>hh_YM</th>\n",
       "      <th>TC_id</th>\n",
       "      <th>quantity_at_TC_prod_id</th>\n",
       "    </tr>\n",
       "  </thead>\n",
       "  <tbody>\n",
       "    <tr>\n",
       "      <td>0</td>\n",
       "      <td>2000000</td>\n",
       "      <td>2003-12</td>\n",
       "      <td>20576</td>\n",
       "      <td>2</td>\n",
       "    </tr>\n",
       "    <tr>\n",
       "      <td>1</td>\n",
       "      <td>2000000</td>\n",
       "      <td>2003-12</td>\n",
       "      <td>38829</td>\n",
       "      <td>13</td>\n",
       "    </tr>\n",
       "    <tr>\n",
       "      <td>2</td>\n",
       "      <td>2000000</td>\n",
       "      <td>2004-01</td>\n",
       "      <td>92523</td>\n",
       "      <td>55</td>\n",
       "    </tr>\n",
       "    <tr>\n",
       "      <td>3</td>\n",
       "      <td>2000000</td>\n",
       "      <td>2004-01</td>\n",
       "      <td>155187</td>\n",
       "      <td>5</td>\n",
       "    </tr>\n",
       "    <tr>\n",
       "      <td>4</td>\n",
       "      <td>2000000</td>\n",
       "      <td>2004-01</td>\n",
       "      <td>221705</td>\n",
       "      <td>43</td>\n",
       "    </tr>\n",
       "  </tbody>\n",
       "</table>\n",
       "</div>"
      ],
      "text/plain": [
       "     hh_id    hh_YM   TC_id  quantity_at_TC_prod_id\n",
       "0  2000000  2003-12   20576                       2\n",
       "1  2000000  2003-12   38829                      13\n",
       "2  2000000  2004-01   92523                      55\n",
       "3  2000000  2004-01  155187                       5\n",
       "4  2000000  2004-01  221705                      43"
      ]
     },
     "execution_count": 16,
     "metadata": {},
     "output_type": "execute_result"
    }
   ],
   "source": [
    "Trips_q1 = pd.merge(Trips[['hh_id','hh_YM', 'TC_id']], Purchase_agg, on = 'TC_id', how='inner')\n",
    "Trips_q1.head()"
   ]
  },
  {
   "cell_type": "code",
   "execution_count": 17,
   "metadata": {
    "scrolled": true
   },
   "outputs": [],
   "source": [
    "Trips_q1_1 = Trips_q1.groupby(['hh_id','hh_YM']).agg({'quantity_at_TC_prod_id':'sum', 'TC_id':'count'}).reset_index()"
   ]
  },
  {
   "cell_type": "code",
   "execution_count": 18,
   "metadata": {},
   "outputs": [],
   "source": [
    "Trips_q1_2 = Trips_q1_1.groupby(['hh_id']).agg({'quantity_at_TC_prod_id':'sum','TC_id':'sum', 'hh_YM':'count'}).reset_index()"
   ]
  },
  {
   "cell_type": "code",
   "execution_count": 19,
   "metadata": {},
   "outputs": [
    {
     "data": {
      "text/html": [
       "<div>\n",
       "<style scoped>\n",
       "    .dataframe tbody tr th:only-of-type {\n",
       "        vertical-align: middle;\n",
       "    }\n",
       "\n",
       "    .dataframe tbody tr th {\n",
       "        vertical-align: top;\n",
       "    }\n",
       "\n",
       "    .dataframe thead th {\n",
       "        text-align: right;\n",
       "    }\n",
       "</style>\n",
       "<table border=\"1\" class=\"dataframe\">\n",
       "  <thead>\n",
       "    <tr style=\"text-align: right;\">\n",
       "      <th></th>\n",
       "      <th>hh_id</th>\n",
       "      <th>quantity_at_TC_prod_id</th>\n",
       "      <th>TC_id</th>\n",
       "      <th>hh_YM</th>\n",
       "    </tr>\n",
       "  </thead>\n",
       "  <tbody>\n",
       "    <tr>\n",
       "      <td>0</td>\n",
       "      <td>2000000</td>\n",
       "      <td>2106</td>\n",
       "      <td>123</td>\n",
       "      <td>13</td>\n",
       "    </tr>\n",
       "    <tr>\n",
       "      <td>1</td>\n",
       "      <td>2000021</td>\n",
       "      <td>515</td>\n",
       "      <td>141</td>\n",
       "      <td>12</td>\n",
       "    </tr>\n",
       "    <tr>\n",
       "      <td>2</td>\n",
       "      <td>2000038</td>\n",
       "      <td>961</td>\n",
       "      <td>236</td>\n",
       "      <td>13</td>\n",
       "    </tr>\n",
       "    <tr>\n",
       "      <td>3</td>\n",
       "      <td>2000049</td>\n",
       "      <td>970</td>\n",
       "      <td>169</td>\n",
       "      <td>13</td>\n",
       "    </tr>\n",
       "    <tr>\n",
       "      <td>4</td>\n",
       "      <td>2000076</td>\n",
       "      <td>818</td>\n",
       "      <td>126</td>\n",
       "      <td>12</td>\n",
       "    </tr>\n",
       "  </tbody>\n",
       "</table>\n",
       "</div>"
      ],
      "text/plain": [
       "     hh_id  quantity_at_TC_prod_id  TC_id  hh_YM\n",
       "0  2000000                    2106    123     13\n",
       "1  2000021                     515    141     12\n",
       "2  2000038                     961    236     13\n",
       "3  2000049                     970    169     13\n",
       "4  2000076                     818    126     12"
      ]
     },
     "execution_count": 19,
     "metadata": {},
     "output_type": "execute_result"
    }
   ],
   "source": [
    "Trips_q1_2.head()"
   ]
  },
  {
   "cell_type": "code",
   "execution_count": 20,
   "metadata": {},
   "outputs": [],
   "source": [
    "Trips_q1_2['num_tc_monthly'] = Trips_q1_2['TC_id']/Trips_q1_2['hh_YM']\n",
    "Trips_q1_2['avg_item_purchased'] = Trips_q1_2['quantity_at_TC_prod_id']/Trips_q1_2['TC_id']"
   ]
  },
  {
   "cell_type": "code",
   "execution_count": 21,
   "metadata": {},
   "outputs": [
    {
     "data": {
      "text/html": [
       "<div>\n",
       "<style scoped>\n",
       "    .dataframe tbody tr th:only-of-type {\n",
       "        vertical-align: middle;\n",
       "    }\n",
       "\n",
       "    .dataframe tbody tr th {\n",
       "        vertical-align: top;\n",
       "    }\n",
       "\n",
       "    .dataframe thead th {\n",
       "        text-align: right;\n",
       "    }\n",
       "</style>\n",
       "<table border=\"1\" class=\"dataframe\">\n",
       "  <thead>\n",
       "    <tr style=\"text-align: right;\">\n",
       "      <th></th>\n",
       "      <th>hh_id</th>\n",
       "      <th>quantity_at_TC_prod_id</th>\n",
       "      <th>TC_id</th>\n",
       "      <th>hh_YM</th>\n",
       "      <th>num_tc_monthly</th>\n",
       "      <th>avg_item_purchased</th>\n",
       "    </tr>\n",
       "  </thead>\n",
       "  <tbody>\n",
       "    <tr>\n",
       "      <td>0</td>\n",
       "      <td>2000000</td>\n",
       "      <td>2106</td>\n",
       "      <td>123</td>\n",
       "      <td>13</td>\n",
       "      <td>9.461538</td>\n",
       "      <td>17.121951</td>\n",
       "    </tr>\n",
       "    <tr>\n",
       "      <td>1</td>\n",
       "      <td>2000021</td>\n",
       "      <td>515</td>\n",
       "      <td>141</td>\n",
       "      <td>12</td>\n",
       "      <td>11.750000</td>\n",
       "      <td>3.652482</td>\n",
       "    </tr>\n",
       "    <tr>\n",
       "      <td>2</td>\n",
       "      <td>2000038</td>\n",
       "      <td>961</td>\n",
       "      <td>236</td>\n",
       "      <td>13</td>\n",
       "      <td>18.153846</td>\n",
       "      <td>4.072034</td>\n",
       "    </tr>\n",
       "    <tr>\n",
       "      <td>3</td>\n",
       "      <td>2000049</td>\n",
       "      <td>970</td>\n",
       "      <td>169</td>\n",
       "      <td>13</td>\n",
       "      <td>13.000000</td>\n",
       "      <td>5.739645</td>\n",
       "    </tr>\n",
       "    <tr>\n",
       "      <td>4</td>\n",
       "      <td>2000076</td>\n",
       "      <td>818</td>\n",
       "      <td>126</td>\n",
       "      <td>12</td>\n",
       "      <td>10.500000</td>\n",
       "      <td>6.492063</td>\n",
       "    </tr>\n",
       "  </tbody>\n",
       "</table>\n",
       "</div>"
      ],
      "text/plain": [
       "     hh_id  quantity_at_TC_prod_id  TC_id  hh_YM  num_tc_monthly  \\\n",
       "0  2000000                    2106    123     13        9.461538   \n",
       "1  2000021                     515    141     12       11.750000   \n",
       "2  2000038                     961    236     13       18.153846   \n",
       "3  2000049                     970    169     13       13.000000   \n",
       "4  2000076                     818    126     12       10.500000   \n",
       "\n",
       "   avg_item_purchased  \n",
       "0           17.121951  \n",
       "1            3.652482  \n",
       "2            4.072034  \n",
       "3            5.739645  \n",
       "4            6.492063  "
      ]
     },
     "execution_count": 21,
     "metadata": {},
     "output_type": "execute_result"
    }
   ],
   "source": [
    "Trips_q1_2.head()"
   ]
  },
  {
   "cell_type": "code",
   "execution_count": 22,
   "metadata": {
    "scrolled": false
   },
   "outputs": [
    {
     "data": {
      "text/plain": [
       "Text(0, 0.5, 'avg_item_purchased')"
      ]
     },
     "execution_count": 22,
     "metadata": {},
     "output_type": "execute_result"
    },
    {
     "data": {
      "image/png": "[encoded data removed]",
      "text/plain": [
       "<Figure size 432x288 with 1 Axes>"
      ]
     },
     "metadata": {
      "needs_background": "light"
     },
     "output_type": "display_data"
    }
   ],
   "source": [
    "plt.scatter(Trips_q1_2['num_tc_monthly'], Trips_q1_2['avg_item_purchased'],s = 0.1)\n",
    "plt.xlabel('num_tc_monthly')\n",
    "plt.ylabel('avg_item_purchased')\n"
   ]
  },
  {
   "cell_type": "code",
   "execution_count": 23,
   "metadata": {},
   "outputs": [],
   "source": [
    "import numpy as np\n",
    "from scipy.stats import kde\n",
    "from mpl_toolkits.mplot3d import Axes3D"
   ]
  },
  {
   "cell_type": "code",
   "execution_count": 24,
   "metadata": {},
   "outputs": [],
   "source": [
    "# sample from original data\n",
    "Trips_q1_2_sample = Trips_q1_2.sample(frac = 0.25, random_state= 1)\n",
    "Trips_q1_2_sample.head()\n",
    "\n",
    "# Evaluate a gaussian kde on a regular grid of nbins x nbins over data extents\n",
    "nbins=100\n",
    "df = Trips_q1_2_sample\n",
    "k = kde.gaussian_kde([df['num_tc_monthly'],df['avg_item_purchased']])\n",
    "xi, yi = np.mgrid[ df['num_tc_monthly'].min():df['num_tc_monthly'].max():nbins*1j, df['avg_item_purchased'].min():df['avg_item_purchased'].max():nbins*1j]\n",
    "zi = k(np.vstack([xi.flatten(), yi.flatten()]))"
   ]
  },
  {
   "cell_type": "code",
   "execution_count": 25,
   "metadata": {},
   "outputs": [],
   "source": [
    "# Transform it in a dataframe\n",
    "data=pd.DataFrame({'x': xi.flatten(), 'y': yi.flatten(), 'z': zi })"
   ]
  },
  {
   "cell_type": "code",
   "execution_count": 26,
   "metadata": {},
   "outputs": [
    {
     "data": {
      "image/png": "[encoded data removed]",
      "text/plain": [
       "<Figure size 432x288 with 1 Axes>"
      ]
     },
     "metadata": {
      "needs_background": "light"
     },
     "output_type": "display_data"
    }
   ],
   "source": [
    "# Make the plot\n",
    "fig = plt.figure()\n",
    "ax = fig.gca(projection='3d')\n",
    "ax.plot_trisurf(data.x, data.y, data.z, cmap=plt.cm.Spectral, linewidth=0.2)\n",
    "# Adapt angle, first number is up/down, second number is right/left\n",
    "ax.view_init(60, 20)"
   ]
  },
  {
   "cell_type": "code",
   "execution_count": 32,
   "metadata": {},
   "outputs": [],
   "source": [
    "import seaborn as sns\n",
    "import matplotlib.pyplot as plt"
   ]
  },
  {
   "cell_type": "code",
   "execution_count": 59,
   "metadata": {},
   "outputs": [
    {
     "data": {
      "text/plain": [
       "Text(0.5, 0.92, 'Number of shopping trips vs average items purchased')"
      ]
     },
     "execution_count": 59,
     "metadata": {},
     "output_type": "execute_result"
    },
    {
     "data": {
      "image/png": "[encoded data removed]",
      "text/plain": [
       "<Figure size 432x288 with 1 Axes>"
      ]
     },
     "metadata": {},
     "output_type": "display_data"
    }
   ],
   "source": [
    "sns.kdeplot(Trips_q1_2['num_tc_monthly'], Trips_q1_2['avg_item_purchased'], cmap=\"Reds\", shade=True)\n",
    "plt.ylim(0, 35)\n",
    "plt.xlim(0, 35)\n",
    "plt.xlabel('Number of shopping trips per month')\n",
    "plt.ylabel('Average number of items purchased')\n",
    "ax.set_title('Number of shopping trips vs average items purchased',fontsize=12,color='black')"
   ]
  },
  {
   "cell_type": "code",
   "execution_count": 107,
   "metadata": {},
   "outputs": [
    {
     "data": {
      "text/plain": [
       "(-0.3878260800905549, 0.0)"
      ]
     },
     "execution_count": 107,
     "metadata": {},
     "output_type": "execute_result"
    }
   ],
   "source": [
    "### Pearson correlation coefficient and the p-value\n",
    "pearsonr(Trips_q1_2['num_tc_monthly'], Trips_q1_2['avg_item_purchased'])"
   ]
  },
  {
   "cell_type": "markdown",
   "metadata": {},
   "source": [
    "## c.2 Is the average price paid per item correlated with the number of items purchased?"
   ]
  },
  {
   "cell_type": "code",
   "execution_count": 39,
   "metadata": {},
   "outputs": [
    {
     "data": {
      "text/html": [
       "<div>\n",
       "<style scoped>\n",
       "    .dataframe tbody tr th:only-of-type {\n",
       "        vertical-align: middle;\n",
       "    }\n",
       "\n",
       "    .dataframe tbody tr th {\n",
       "        vertical-align: top;\n",
       "    }\n",
       "\n",
       "    .dataframe thead th {\n",
       "        text-align: right;\n",
       "    }\n",
       "</style>\n",
       "<table border=\"1\" class=\"dataframe\">\n",
       "  <thead>\n",
       "    <tr style=\"text-align: right;\">\n",
       "      <th></th>\n",
       "      <th>TC_id</th>\n",
       "      <th>quantity_at_TC_prod_id</th>\n",
       "      <th>total_price_paid_at_TC_prod_id</th>\n",
       "    </tr>\n",
       "  </thead>\n",
       "  <tbody>\n",
       "    <tr>\n",
       "      <td>0</td>\n",
       "      <td>233</td>\n",
       "      <td>3</td>\n",
       "      <td>2.97</td>\n",
       "    </tr>\n",
       "    <tr>\n",
       "      <td>1</td>\n",
       "      <td>234</td>\n",
       "      <td>1</td>\n",
       "      <td>1.89</td>\n",
       "    </tr>\n",
       "    <tr>\n",
       "      <td>2</td>\n",
       "      <td>235</td>\n",
       "      <td>1</td>\n",
       "      <td>1.77</td>\n",
       "    </tr>\n",
       "    <tr>\n",
       "      <td>3</td>\n",
       "      <td>236</td>\n",
       "      <td>13</td>\n",
       "      <td>51.76</td>\n",
       "    </tr>\n",
       "    <tr>\n",
       "      <td>4</td>\n",
       "      <td>237</td>\n",
       "      <td>1</td>\n",
       "      <td>7.39</td>\n",
       "    </tr>\n",
       "  </tbody>\n",
       "</table>\n",
       "</div>"
      ],
      "text/plain": [
       "   TC_id  quantity_at_TC_prod_id  total_price_paid_at_TC_prod_id\n",
       "0    233                       3                            2.97\n",
       "1    234                       1                            1.89\n",
       "2    235                       1                            1.77\n",
       "3    236                      13                           51.76\n",
       "4    237                       1                            7.39"
      ]
     },
     "execution_count": 39,
     "metadata": {},
     "output_type": "execute_result"
    }
   ],
   "source": [
    "Purchase1 = Purchases[['TC_id','quantity_at_TC_prod_id','total_price_paid_at_TC_prod_id']].groupby('TC_id').sum()\n",
    "Purchase1.reset_index(inplace=True)\n",
    "Purchase1.head()"
   ]
  },
  {
   "cell_type": "code",
   "execution_count": 40,
   "metadata": {},
   "outputs": [
    {
     "data": {
      "text/html": [
       "<div>\n",
       "<style scoped>\n",
       "    .dataframe tbody tr th:only-of-type {\n",
       "        vertical-align: middle;\n",
       "    }\n",
       "\n",
       "    .dataframe tbody tr th {\n",
       "        vertical-align: top;\n",
       "    }\n",
       "\n",
       "    .dataframe thead th {\n",
       "        text-align: right;\n",
       "    }\n",
       "</style>\n",
       "<table border=\"1\" class=\"dataframe\">\n",
       "  <thead>\n",
       "    <tr style=\"text-align: right;\">\n",
       "      <th></th>\n",
       "      <th>hh_id</th>\n",
       "      <th>TC_id</th>\n",
       "      <th>quantity_at_TC_prod_id</th>\n",
       "      <th>total_price_paid_at_TC_prod_id</th>\n",
       "    </tr>\n",
       "  </thead>\n",
       "  <tbody>\n",
       "    <tr>\n",
       "      <td>0</td>\n",
       "      <td>2000000</td>\n",
       "      <td>20576</td>\n",
       "      <td>2</td>\n",
       "      <td>3.68</td>\n",
       "    </tr>\n",
       "    <tr>\n",
       "      <td>1</td>\n",
       "      <td>2000000</td>\n",
       "      <td>38829</td>\n",
       "      <td>13</td>\n",
       "      <td>32.96</td>\n",
       "    </tr>\n",
       "    <tr>\n",
       "      <td>2</td>\n",
       "      <td>2000000</td>\n",
       "      <td>92523</td>\n",
       "      <td>55</td>\n",
       "      <td>90.90</td>\n",
       "    </tr>\n",
       "    <tr>\n",
       "      <td>3</td>\n",
       "      <td>2000000</td>\n",
       "      <td>155187</td>\n",
       "      <td>5</td>\n",
       "      <td>15.25</td>\n",
       "    </tr>\n",
       "    <tr>\n",
       "      <td>4</td>\n",
       "      <td>2000000</td>\n",
       "      <td>221705</td>\n",
       "      <td>43</td>\n",
       "      <td>74.03</td>\n",
       "    </tr>\n",
       "  </tbody>\n",
       "</table>\n",
       "</div>"
      ],
      "text/plain": [
       "     hh_id   TC_id  quantity_at_TC_prod_id  total_price_paid_at_TC_prod_id\n",
       "0  2000000   20576                       2                            3.68\n",
       "1  2000000   38829                      13                           32.96\n",
       "2  2000000   92523                      55                           90.90\n",
       "3  2000000  155187                       5                           15.25\n",
       "4  2000000  221705                      43                           74.03"
      ]
     },
     "execution_count": 40,
     "metadata": {},
     "output_type": "execute_result"
    }
   ],
   "source": [
    "Trips_q2 = pd.merge(Trips[['hh_id','TC_id']], Purchase1, on = 'TC_id', how='inner')\n",
    "Trips_q2.head()"
   ]
  },
  {
   "cell_type": "code",
   "execution_count": 41,
   "metadata": {},
   "outputs": [
    {
     "data": {
      "text/html": [
       "<div>\n",
       "<style scoped>\n",
       "    .dataframe tbody tr th:only-of-type {\n",
       "        vertical-align: middle;\n",
       "    }\n",
       "\n",
       "    .dataframe tbody tr th {\n",
       "        vertical-align: top;\n",
       "    }\n",
       "\n",
       "    .dataframe thead th {\n",
       "        text-align: right;\n",
       "    }\n",
       "</style>\n",
       "<table border=\"1\" class=\"dataframe\">\n",
       "  <thead>\n",
       "    <tr style=\"text-align: right;\">\n",
       "      <th></th>\n",
       "      <th>hh_id</th>\n",
       "      <th>quantity_at_TC_prod_id</th>\n",
       "      <th>total_price_paid_at_TC_prod_id</th>\n",
       "    </tr>\n",
       "  </thead>\n",
       "  <tbody>\n",
       "    <tr>\n",
       "      <td>0</td>\n",
       "      <td>2000000</td>\n",
       "      <td>2106</td>\n",
       "      <td>3680.28</td>\n",
       "    </tr>\n",
       "    <tr>\n",
       "      <td>1</td>\n",
       "      <td>2000021</td>\n",
       "      <td>515</td>\n",
       "      <td>1853.00</td>\n",
       "    </tr>\n",
       "    <tr>\n",
       "      <td>2</td>\n",
       "      <td>2000038</td>\n",
       "      <td>961</td>\n",
       "      <td>3486.06</td>\n",
       "    </tr>\n",
       "    <tr>\n",
       "      <td>3</td>\n",
       "      <td>2000049</td>\n",
       "      <td>970</td>\n",
       "      <td>4412.97</td>\n",
       "    </tr>\n",
       "    <tr>\n",
       "      <td>4</td>\n",
       "      <td>2000076</td>\n",
       "      <td>818</td>\n",
       "      <td>2302.02</td>\n",
       "    </tr>\n",
       "  </tbody>\n",
       "</table>\n",
       "</div>"
      ],
      "text/plain": [
       "     hh_id  quantity_at_TC_prod_id  total_price_paid_at_TC_prod_id\n",
       "0  2000000                    2106                         3680.28\n",
       "1  2000021                     515                         1853.00\n",
       "2  2000038                     961                         3486.06\n",
       "3  2000049                     970                         4412.97\n",
       "4  2000076                     818                         2302.02"
      ]
     },
     "execution_count": 41,
     "metadata": {},
     "output_type": "execute_result"
    }
   ],
   "source": [
    "Trips_q2_1 = Trips_q2.groupby(['hh_id']).agg({'quantity_at_TC_prod_id':'sum', 'total_price_paid_at_TC_prod_id':'sum'}).reset_index()\n",
    "Trips_q2_1.head()"
   ]
  },
  {
   "cell_type": "code",
   "execution_count": 42,
   "metadata": {},
   "outputs": [
    {
     "data": {
      "text/html": [
       "<div>\n",
       "<style scoped>\n",
       "    .dataframe tbody tr th:only-of-type {\n",
       "        vertical-align: middle;\n",
       "    }\n",
       "\n",
       "    .dataframe tbody tr th {\n",
       "        vertical-align: top;\n",
       "    }\n",
       "\n",
       "    .dataframe thead th {\n",
       "        text-align: right;\n",
       "    }\n",
       "</style>\n",
       "<table border=\"1\" class=\"dataframe\">\n",
       "  <thead>\n",
       "    <tr style=\"text-align: right;\">\n",
       "      <th></th>\n",
       "      <th>hh_id</th>\n",
       "      <th>quantity_at_TC_prod_id</th>\n",
       "      <th>total_price_paid_at_TC_prod_id</th>\n",
       "      <th>avg_value</th>\n",
       "    </tr>\n",
       "  </thead>\n",
       "  <tbody>\n",
       "    <tr>\n",
       "      <td>0</td>\n",
       "      <td>2000000</td>\n",
       "      <td>2106</td>\n",
       "      <td>3680.28</td>\n",
       "      <td>1.747521</td>\n",
       "    </tr>\n",
       "    <tr>\n",
       "      <td>1</td>\n",
       "      <td>2000021</td>\n",
       "      <td>515</td>\n",
       "      <td>1853.00</td>\n",
       "      <td>3.598058</td>\n",
       "    </tr>\n",
       "    <tr>\n",
       "      <td>2</td>\n",
       "      <td>2000038</td>\n",
       "      <td>961</td>\n",
       "      <td>3486.06</td>\n",
       "      <td>3.627534</td>\n",
       "    </tr>\n",
       "    <tr>\n",
       "      <td>3</td>\n",
       "      <td>2000049</td>\n",
       "      <td>970</td>\n",
       "      <td>4412.97</td>\n",
       "      <td>4.549454</td>\n",
       "    </tr>\n",
       "    <tr>\n",
       "      <td>4</td>\n",
       "      <td>2000076</td>\n",
       "      <td>818</td>\n",
       "      <td>2302.02</td>\n",
       "      <td>2.814205</td>\n",
       "    </tr>\n",
       "  </tbody>\n",
       "</table>\n",
       "</div>"
      ],
      "text/plain": [
       "     hh_id  quantity_at_TC_prod_id  total_price_paid_at_TC_prod_id  avg_value\n",
       "0  2000000                    2106                         3680.28   1.747521\n",
       "1  2000021                     515                         1853.00   3.598058\n",
       "2  2000038                     961                         3486.06   3.627534\n",
       "3  2000049                     970                         4412.97   4.549454\n",
       "4  2000076                     818                         2302.02   2.814205"
      ]
     },
     "execution_count": 42,
     "metadata": {},
     "output_type": "execute_result"
    }
   ],
   "source": [
    "Trips_q2_1['avg_value'] = Trips_q2_1['total_price_paid_at_TC_prod_id']/Trips_q2_1['quantity_at_TC_prod_id']\n",
    "Trips_q2_1.head()"
   ]
  },
  {
   "cell_type": "code",
   "execution_count": 68,
   "metadata": {},
   "outputs": [
    {
     "data": {
      "text/plain": [
       "(0, 10)"
      ]
     },
     "execution_count": 68,
     "metadata": {},
     "output_type": "execute_result"
    },
    {
     "data": {
      "image/png": "[encoded data removed]",
      "text/plain": [
       "<Figure size 432x288 with 1 Axes>"
      ]
     },
     "metadata": {},
     "output_type": "display_data"
    }
   ],
   "source": [
    "plt.scatter(Trips_q2_1['avg_value'], Trips_q1_2['quantity_at_TC_prod_id'],s = 0.1, alpha = .8, color = \"indianred\")\n",
    "plt.xlabel('Average price paid per item')\n",
    "plt.ylabel('Average number of items purchased')\n",
    "plt.ylim(0, 7000)\n",
    "plt.xlim(0, 10)"
   ]
  },
  {
   "cell_type": "code",
   "execution_count": 106,
   "metadata": {},
   "outputs": [
    {
     "data": {
      "text/plain": [
       "(-0.274864891505468, 0.0)"
      ]
     },
     "execution_count": 106,
     "metadata": {},
     "output_type": "execute_result"
    }
   ],
   "source": [
    "### Pearson correlation coefficient and the p-value\n",
    "pearsonr(Trips_q2_1['avg_value'], Trips_q1_2['quantity_at_TC_prod_id'])"
   ]
  }
 ],
 "metadata": {
  "kernelspec": {
   "display_name": "Python 3",
   "language": "python",
   "name": "python3"
  },
  "language_info": {
   "codemirror_mode": {
    "name": "ipython",
    "version": 3
   },
   "file_extension": ".py",
   "mimetype": "text/x-python",
   "name": "python",
   "nbconvert_exporter": "python",
   "pygments_lexer": "ipython3",
   "version": "3.7.3"
  }
 },
 "nbformat": 4,
 "nbformat_minor": 2
}
